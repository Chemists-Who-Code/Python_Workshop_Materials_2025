{
 "cells": [
  {
   "cell_type": "markdown",
   "metadata": {},
   "source": [
    "# Python Primer  \n",
    "Welcome to the Chemistry Department Programming Workshop Python Primer!  \n",
    "   \n",
    "This tutorial is meant to prepare you for the workshop activities to come, so it is important that all software and dependencies are functioning before our first full workshop day.  \n",
    "  \n",
    "This Python Primer consists of 3 sub-modules:  \n",
    "* [`0.0 Software Installation`](./0.0_python_primer_software_installation.md) – installing python, dependencies and text editor  \n",
    "* [`0.1 Syntax Fundamentals`](./0.1_python_primer_syntax_fundamentals.ipynb) – basic loops, types, functions and python philosophy  \n",
    "* [`0.2 Package Installation and Management`](./0.2_python_primer_package_installation_and_management.md) – how to handle problematic installations and read documentation\n",
    "## 0.1 Syntax Fundamentals\n",
    "---\n",
    "\n",
    "**Contents**  \n",
    "  \n",
    "In this module, you will cover:\n",
    " * [0.1.1 Introduction to Data Types](#data-types)\n",
    " * [0.1.2 Introduction to Variables](#variables)"
   ]
  },
  {
   "cell_type": "markdown",
   "metadata": {},
   "source": [
    "# Data Types\n",
    "\n",
    "Computers, as many people know, think in terms of 1's and 0's. We have abstract ways of having those 1's and 0's represent numbers and symbols we can perform operations on. The way the computer knows how to store, handle, and perform operations on the abstract representations we are familiar with.\n",
    "\n",
    "We can check the type of a value using the `type()` function. We will get in to how to use this more later."
   ]
  },
  {
   "cell_type": "markdown",
   "metadata": {},
   "source": [
    "## The Print Function and a Disclaimer\n",
    "\n",
    "Before we get into different data types and operations we can perform there are a few things you are going to need to know how to do in python. We will be taking these bits of code for granted now and explain them later. Code snippets like this will pop up throughout these instructions from time to time and can be explained hopefully inside of them later, but python documentation exists for free many places on the internet depending on how deep of an explanation you want.\n",
    "\n",
    "The first bit of code we will need is the `print()` function. `print()` is used to output information to the terminal. `print()` outputs anything inside the parentheses. The example below outputs \"Hello World!\" to the terminal."
   ]
  },
  {
   "cell_type": "code",
   "execution_count": 34,
   "metadata": {},
   "outputs": [
    {
     "name": "stdout",
     "output_type": "stream",
     "text": [
      "Hello World!\n"
     ]
    }
   ],
   "source": [
    "print(\"Hello World!\")"
   ]
  },
  {
   "cell_type": "markdown",
   "metadata": {},
   "source": [
    "## Integers\n",
    "\n",
    "Integers are one of the built in data types in python (and many other languages).\n",
    "Integers are whole numbers without a decimal place below is an example of how to use the `type()` function and `print()` function to check if something is an integer.\n"
   ]
  },
  {
   "cell_type": "code",
   "execution_count": 35,
   "metadata": {},
   "outputs": [
    {
     "name": "stdout",
     "output_type": "stream",
     "text": [
      "7\n",
      "<class 'int'>\n"
     ]
    }
   ],
   "source": [
    "print(7)\n",
    "print(type(7))"
   ]
  },
  {
   "cell_type": "markdown",
   "metadata": {},
   "source": [
    "## Floats\n",
    "\n",
    "Floats, or floating point numbers are another basic data type implemented in different coding languages.\n",
    "\n",
    "Floats, for our purposes, are any number with a decimal.\n",
    "You may wonder why we would ever use an intiger when we can get more precission with floating point numbers. This is a great question. Floats are represented differently in computer memory and therefore take up more space. For the computer this is analogous to a human reading the word \"cat\" versus reading the word \"supercalifragilisticexpialidocious\". If a number is an integer it is better not to convert it to something the computer will take longer to read every time it looks at it. Many applications for quick and dirty data processing will not be largely impacted, but it something to be aware of if you are ever interested in writing time efficient code.\n",
    "\n",
    "Below is an example of `type()` and `print()` to check if a float is a float.\n"
   ]
  },
  {
   "cell_type": "code",
   "execution_count": 36,
   "metadata": {},
   "outputs": [
    {
     "name": "stdout",
     "output_type": "stream",
     "text": [
      "3.14159\n",
      "<class 'float'>\n"
     ]
    }
   ],
   "source": [
    "print(3.14159)\n",
    "print(type(3.14159))"
   ]
  },
  {
   "cell_type": "markdown",
   "metadata": {},
   "source": [
    "## Basic Math operations\n",
    "\n",
    "Very regularly we need to perform an operation on a number. Python can perform these operations using the symbols below.\n",
    "\n",
    "- `+`  Addition\n",
    "- `-`  Subtraction\n",
    "- `*`  Multiplication\n",
    "- `/`  Division\n",
    "- `//` Floor Division (rounds down to the nearest integer)\n",
    "- `**` exponentiation\n",
    "- `%`  Modulus (this is more useful than you think once we get in to loops)\n",
    "\n",
    "The Modulo operator can be one people may be unfamiliar with. One way to think about it is that it returns the remainder of a division operation. 5 % 2 = 1 for example.\n",
    "\n",
    "You can perform many operations in the same line. Python follows the standard order of operations but adding parenthesis never hurts. Below is an example where we calculate the area and circumference of a circle of radius 4."
   ]
  },
  {
   "cell_type": "code",
   "execution_count": 37,
   "metadata": {},
   "outputs": [
    {
     "name": "stdout",
     "output_type": "stream",
     "text": [
      "Area:\n",
      "50.26544\n",
      "Circumference:\n",
      "25.13272\n"
     ]
    }
   ],
   "source": [
    "print(\"Area:\")\n",
    "print(3.14159 * 4**2)\n",
    "print(\"Circumference:\")\n",
    "print(2 * 3.14159 * 4)"
   ]
  },
  {
   "cell_type": "markdown",
   "metadata": {},
   "source": [
    "## Booleans\n",
    "\n",
    "Booleans or bools only have two possible values `True` or `False`.\n",
    "\n",
    "Below is an example of using the `type()` and `print()` functions to output and check the data type of a bool."
   ]
  },
  {
   "cell_type": "code",
   "execution_count": 38,
   "metadata": {},
   "outputs": [
    {
     "name": "stdout",
     "output_type": "stream",
     "text": [
      "True\n",
      "<class 'bool'>\n"
     ]
    }
   ],
   "source": [
    "print(True)\n",
    "print(type(False))"
   ]
  },
  {
   "cell_type": "markdown",
   "metadata": {},
   "source": [
    "Booleans values can also be gotten from boolean operations. below is a list of boolean operations and when they return `True`\n",
    "\n",
    "- `==` iff one value is exactly the same as another value\n",
    "- `!=` iff one value is different than another value\n",
    "- `>`  iff one value is greater than another value\n",
    "- `<`  iff one value is less than anther value\n",
    "- `>=` iff one value is greater than or equal to another value\n",
    "- `<=` iff one Value is equal to another value\n",
    "\n",
    "- `and` iff both statements on either side of the operator are `True`\n",
    "- `or` if either of the statements on either side of the operator is `True`\n",
    "\n",
    "In terms of boolean algebra or statements are evaluated after and statements.\n",
    "\n",
    "We can perform these operations on other data types to output a boolean.\n",
    "below are some examples.\n"
   ]
  },
  {
   "cell_type": "code",
   "execution_count": 39,
   "metadata": {},
   "outputs": [
    {
     "name": "stdout",
     "output_type": "stream",
     "text": [
      "True\n",
      "False\n"
     ]
    }
   ],
   "source": [
    "print(5 >= 3 and 2 == 1 + 1)\n",
    "\n",
    "print(False or True == False or 4 == (16 ** (1/2)) and  False)"
   ]
  },
  {
   "cell_type": "markdown",
   "metadata": {},
   "source": [
    "## Strings\n",
    "\n",
    "Strings are arrays of characters (characters are their own data type but we will not address them here.). These are words, sentences, paragraphs, etc. We have already printed some in examples above. They are surrounded by `\"\"` or `''`. Below is an example of the `print()` and `type()` functions being used to output and check the data type of strings. "
   ]
  },
  {
   "cell_type": "code",
   "execution_count": 40,
   "metadata": {},
   "outputs": [
    {
     "name": "stdout",
     "output_type": "stream",
     "text": [
      "Hello World!\n",
      "<class 'str'>\n",
      "3.14159\n",
      "<class 'str'>\n"
     ]
    }
   ],
   "source": [
    "print(\"Hello World!\")\n",
    "print(type(\"Hello World!\"))\n",
    "\n",
    "print(\"3.14159\")\n",
    "print(type(\"3.14159\"))"
   ]
  },
  {
   "cell_type": "markdown",
   "metadata": {},
   "source": [
    "Notice that in our example above we have what was previously considered a float now surrounded in parenthesis. This makes it a string. If we try to perfrom a mathematical operation on a string python will give us an error."
   ]
  },
  {
   "cell_type": "code",
   "execution_count": 41,
   "metadata": {},
   "outputs": [
    {
     "ename": "TypeError",
     "evalue": "can only concatenate str (not \"int\") to str",
     "output_type": "error",
     "traceback": [
      "\u001b[1;31m---------------------------------------------------------------------------\u001b[0m",
      "\u001b[1;31mTypeError\u001b[0m                                 Traceback (most recent call last)",
      "Cell \u001b[1;32mIn[41], line 1\u001b[0m\n\u001b[1;32m----> 1\u001b[0m \u001b[38;5;28mprint\u001b[39m(\u001b[38;5;124;43m\"\u001b[39;49m\u001b[38;5;124;43m3.14159\u001b[39;49m\u001b[38;5;124;43m\"\u001b[39;49m\u001b[43m  \u001b[49m\u001b[38;5;241;43m+\u001b[39;49m\u001b[43m \u001b[49m\u001b[38;5;241;43m200\u001b[39;49m)\n",
      "\u001b[1;31mTypeError\u001b[0m: can only concatenate str (not \"int\") to str"
     ]
    }
   ],
   "source": [
    "print(\"3.14159\"  + 200)"
   ]
  },
  {
   "cell_type": "markdown",
   "metadata": {},
   "source": [
    "We will talk about how to address this error a little bit later, but for now lets see what happens if we try to add two strings."
   ]
  },
  {
   "cell_type": "code",
   "execution_count": null,
   "metadata": {},
   "outputs": [
    {
     "name": "stdout",
     "output_type": "stream",
     "text": [
      "3.14159200\n",
      "2003.14159\n",
      "200 is a really big number\n"
     ]
    }
   ],
   "source": [
    "print(\"3.14159\" + \"200\")\n",
    "print(\"200\" + \"3.14159\")\n",
    "print(\"200\" + \" is a really big number!\")"
   ]
  },
  {
   "cell_type": "markdown",
   "metadata": {},
   "source": [
    "If two strings are \"added together\" we call this operation **concatenation**. You will notice our numbers were not added together they were smuched together as text. Order matters here."
   ]
  },
  {
   "cell_type": "markdown",
   "metadata": {},
   "source": [
    "## Switching Between Data Types"
   ]
  },
  {
   "cell_type": "markdown",
   "metadata": {},
   "source": [
    "There will come times when you may have a float and maybe you want to concatenate that float to a string. You can use the following functions to switch between datatypes.\n",
    "\n",
    "- `int()` the object inside of the parenthesis is converted to an integer.\n",
    "- `float()` the object inside of the parenthesis is converted to a floating point number.\n",
    "- `bool()` the object inside of the parenthesis is converted to a boolean.\n",
    "- `str()` the object inside of the parenthesis is converted to a string.\n",
    "\n",
    "Below is an example of how one might use the 'str()' function."
   ]
  },
  {
   "cell_type": "code",
   "execution_count": null,
   "metadata": {},
   "outputs": [
    {
     "name": "stdout",
     "output_type": "stream",
     "text": [
      "The area of a circle with radius 4 is 50.26544.\n"
     ]
    }
   ],
   "source": [
    "print(\"The area of a circle with radius 4 is \" + str(3.14159 * 4 ** 2) + \".\")"
   ]
  },
  {
   "cell_type": "markdown",
   "metadata": {},
   "source": [
    "## Other Data Types and Operations\n",
    "\n",
    "Plenty of other data types and operations exist in python. You will can even build some of your own to suit your needs. This barely scratches the surface, but these are some of the most fundamental you will encounter. We will address others as we need them. If you come across a problem with operations on simple data types it has probably been solved. There are a plethora of resources available online to help you understand and troubleshoot issues."
   ]
  },
  {
   "cell_type": "markdown",
   "metadata": {},
   "source": [
    "# Variables"
   ]
  },
  {
   "cell_type": "markdown",
   "metadata": {},
   "source": [
    "## Basics of Variables"
   ]
  },
  {
   "cell_type": "markdown",
   "metadata": {},
   "source": [
    "In examples above, specifically where I calculated the area and circumference of a circle I manually typed out all of those numbers so many times. What if, after I got my answers for a circle of radius 4 I was curious about a circle of radius 6? I would have to go through my code, find all of the 4's that represent my radius and manually change them. This might not be so bad for the small code example, but code can get mush longer and it could be hard to know which 4's represent the radius as well as make sure you get all of them changed.\n",
    "\n",
    "This is what variables are for. Variables allow us to assign a value to them so we may reuse them throughout our code. \n",
    "\n",
    "Variables are assigned using the assignment operator `=`. Note that this is not the same as equals `==` which is a boolean operation.\n",
    "\n",
    "Look at the example below where I rewrote our circle example but now using a variable for the radius."
   ]
  },
  {
   "cell_type": "code",
   "execution_count": null,
   "metadata": {},
   "outputs": [
    {
     "name": "stdout",
     "output_type": "stream",
     "text": [
      "Area of a circle with radius 4:\n",
      "50.26544\n",
      "Circumference of a circle with radius 4:\n",
      "25.13272\n"
     ]
    }
   ],
   "source": [
    "radius = 4\n",
    "\n",
    "print(\"Area of a circle with radius \" + str(radius) + \":\")\n",
    "print(3.14159 * radius ** 2)\n",
    "print(\"Circumference of a circle with radius \" + str(radius) + \":\")\n",
    "print(2 * 3.14159 * radius)"
   ]
  },
  {
   "cell_type": "markdown",
   "metadata": {},
   "source": [
    "Admittedly this was more typing, but the typing is saved later when I want to change the radius to something else I only need to change it in one spot. I only need to change is on the first line where I assigned the radius value. Go ahead and change the value of radius and run it again a few times."
   ]
  },
  {
   "cell_type": "markdown",
   "metadata": {},
   "source": [
    "Variables also add readability to your code. Later, when your looking at your code it can make it much more clear to you or other people that you are performing operations using the radius. In fact, here is an example of some code I would consider much more readable and all we did was utilize variables."
   ]
  },
  {
   "cell_type": "code",
   "execution_count": null,
   "metadata": {},
   "outputs": [
    {
     "name": "stdout",
     "output_type": "stream",
     "text": [
      "Area of a circle with radius 4:\n",
      "50.26544\n",
      "Circumference of a circle with radius 4:\n",
      "25.13272\n"
     ]
    }
   ],
   "source": [
    "radius  = 4\n",
    "pi = 3.14159\n",
    "\n",
    "circle_area = pi * radius ** 2\n",
    "circle_circumference =  2 * pi * radius\n",
    "\n",
    "print(\"Area of a circle with radius \" + str(radius) + \":\")\n",
    "print(circle_area)\n",
    "print(\"Circumference of a circle with radius \" + str(radius) + \":\")\n",
    "print(circle_circumference)"
   ]
  },
  {
   "cell_type": "markdown",
   "metadata": {},
   "source": [
    "The code above is much much longer than our original code just to get the same output, but it is significantly more clear what each line is meant to do. I am much more confident that someone else or future me will have an easier time understanding what is happening as well as making changes as they need to. They could very easily modify the code do do calculations with a different radius or even a different precision of $\\pi$."
   ]
  },
  {
   "cell_type": "markdown",
   "metadata": {},
   "source": [
    "## Making good variable names"
   ]
  },
  {
   "cell_type": "markdown",
   "metadata": {},
   "source": [
    "There are certain rules that have to be followed with variable names. First of all, there are also a small number of words you can not use. Two examples you already know of are `True` and `False`. These are special keywords that python already recognizes as something else so it will not let you assign them a value.\n",
    "\n",
    "Variables are also **case sensitive**. `circle_circumference` and `Circle_Circumference` are two totally different variables. This is great because you can assign so many unique variable names, but it can also get frustrating when you capitalize something that you didn't assign.\n",
    "\n",
    "Additionally, variables cannot have spaces. some people, myself included, get around this with underscores `_`. There are other rules that are a little nuanced such as the use of certain special characters within or at the beginning of a variable name, but it is unlikely you will run into that as long as you stick with starting with a letter and only using numbers and letters.\n",
    "\n",
    "To avoid getting in to trouble with variable names many people use conventions. below are some common ones.\n",
    "\n",
    "- this_is_snake_case\n",
    "- ThisIsPascalCase\n",
    "- thisIsCamelCase\n",
    "- THISISALLCAPS\n",
    "\n",
    "This is by no means an exhaustive list, and it is not important which one you or your group decides on, but staying consistent will save you so much time and headache later."
   ]
  },
  {
   "cell_type": "markdown",
   "metadata": {},
   "source": [
    "Another factor in a good variable name is how informative it is. In our circle calculation example I could have simply called `radius` `R` instead. It would have worked exactly the same and I would have saved myself some typing. This is very tempting, but it can make your code ambiguous. As your code gets longer and you are keeping track of more variables it can be hard to recall what `R` might stand for. You may think is is being used as the ideal gas constant.\n",
    "\n",
    "This is programming, and yes we will do some math, but there is no need for ambiguous short variable names. Save yourself some scrolling to find variable assignments and make descriptive variable names that are searchable. You will thank yourself later.\n",
    "\n",
    "**A Note on readable code and the limits of variable names:**  \n",
    "Assigning descriptive variable names is a great step to writing code that is easy to read later, but sometimes you can only do so much. Sometimes you want to leave yourself a little note in your code. This is what comments are for. Any line that begins with a `#` is a comment. Multi-line comments can alos be added with a triple quote `\"\"\"`. Python does not read and interpret comments into actions. you can use comments to explicitly state exactly what a line or section of code is doing. Below is our circle example with some comments to aid in readablity later.\n"
   ]
  },
  {
   "cell_type": "code",
   "execution_count": null,
   "metadata": {},
   "outputs": [
    {
     "name": "stdout",
     "output_type": "stream",
     "text": [
      "Area of a circle with radius 4:\n",
      "50.26544\n",
      "Circumference of a circle with radius 4:\n",
      "25.13272\n"
     ]
    }
   ],
   "source": [
    "# These variables hold values for the radius of a given circle and the value of pi.\n",
    "# They can be changed to find values for other circles or with higher precision.\n",
    "radius  = 4\n",
    "pi = 3.14159\n",
    "\n",
    "# Below I am calculating the area and circumference of a circle and storing them in variables.\n",
    "circle_area = pi * radius ** 2\n",
    "circle_circumference =  2 * pi * radius\n",
    "\n",
    "'''\n",
    "This is a multi-line comment. \n",
    "Single or double quotes both work to start and end a multi-line comment.\n",
    "The next four lines output the values I calculated in a neat format. \n",
    "'''\n",
    "print(\"Area of a circle with radius \" + str(radius) + \":\")\n",
    "print(circle_area)\n",
    "print(\"Circumference of a circle with radius \" + str(radius) + \":\")\n",
    "print(circle_circumference)"
   ]
  },
  {
   "cell_type": "markdown",
   "metadata": {},
   "source": [
    "*Quick tip:*  \n",
    "You can \"comment out\" multiple lines of code by highlighting the lines and entering `\"ctrl+/\"`. This is often useful when you want to stop a section of code from running without deleting it entirely. The same command will \"un-comment\" selected lines."
   ]
  },
  {
   "cell_type": "markdown",
   "metadata": {},
   "source": [
    "# Loops"
   ]
  },
  {
   "cell_type": "markdown",
   "metadata": {},
   "source": [
    "Loops are an important part of programming and will save you a ton of time. In python there are two different kinds of loops `for` loops and `while` loops. We will talk about each of them in a bit but first lets demonstrate their power. If you have a menial task or a calculation that is repetitive that is when you use the loop. Lets take an example. Say you needed the sum the squares of the first 100 multiples of 13 or represented mathematically $\\sum^{100}_{i=1} (3i)^{2}$ (This would likely not come up for you but this is just an introduction). This would be annoying to do by hand, but it is easily solved in just a four lines of python (I'm not counting comment lines)."
   ]
  },
  {
   "cell_type": "code",
   "execution_count": null,
   "metadata": {},
   "outputs": [
    {
     "name": "stdout",
     "output_type": "stream",
     "text": [
      "3045150\n"
     ]
    }
   ],
   "source": [
    "# Setting an intial variable to hold our result as we go.\n",
    "final_value = 0\n",
    "# defining what we want to loop through.\n",
    "for i in range(1,101):\n",
    "    # performing operations inside the loop\n",
    "    final_value = final_value + (3*i)**2\n",
    "# Printing out our final answer once wwe have exited the loop.\n",
    "print(final_value)"
   ]
  },
  {
   "cell_type": "markdown",
   "metadata": {},
   "source": [
    "## For Loops"
   ]
  },
  {
   "cell_type": "markdown",
   "metadata": {},
   "source": [
    "`for` loops are less powerful than while loops, but usually are much easier to implement.\n",
    "The above for loop has the following anatomy:  \n",
    "-  you start a line with `for` so python recognizes you are writing a for loop. \n",
    "- next is a variable `i` to hold items as you loop through them. The use of `i` is a common convention, but the name of this variable can be anything - I would encourage using a better variable name to make your code easier to read. \n",
    "- then the keyword `in` is used. Here we use the range function. The range function essentially generates a list of integers starting with the first parameter, and then up to *but not including* the second parameter. \n",
    "- This is then all followed up with a `:` and anything indented after the for loop is what happens during each loop each loop. \n",
    "  \n",
    "To understand what is happening in this loop and how to track a loop lets keep track of what is happening for a few cycles."
   ]
  },
  {
   "cell_type": "markdown",
   "metadata": {},
   "source": [
    "**Step 0.)** before the loop begins.  \n",
    "  \n",
    "final_value = 0   \n",
    "  \n",
    "range then generates a list of numbers 1 to 100:  \n",
    "[1,2,3,4,5,6,...,100]  \n",
    "  \n",
    "-----------------------------------------------------------  \n",
    "**Step 1.)** The first round of the Loop  \n",
    "  \n",
    "  \n",
    "i is set to the first index value I will indicate where we in the loop with an arrow.  \n",
    "  \n",
    "[1,2,3,4,5,6,...,100]  \n",
    "  \n",
    ".^  \n",
    "  \n",
    "i = 1  \n",
    "\n",
    "calculations are performed in the loop  \n",
    "  \n",
    "final_value = 0 + (3*1)**2  \n",
    "  \n",
    "and at the end of the loop  \n",
    "  \n",
    "final_value = 9  \n",
    "  \n",
    "-----------------------------------------------------------  \n",
    "**Step 2.)** The second round of the Loop  \n",
    "  \n",
    "i is set to the second index value  \n",
    "  \n",
    "[1,2,3,4,5,6,...,100]  \n",
    "  \n",
    ".....^  \n",
    "  \n",
    "i = 2  \n",
    "  \n",
    "calculations are performed:  \n",
    "  \n",
    "final_value = 9 + (3*2)**2  \n",
    "  \n",
    "final_value = 45  \n",
    "  \n",
    "-----------------------------------------------------------  \n",
    "**Step 3.)** The Third round of the Loop  \n",
    "  \n",
    "i is set to the second index value  \n",
    "  \n",
    "[1,2,3,4,5,6,...,100]  \n",
    "  \n",
    "........^  \n",
    "  \n",
    "i = 3  \n",
    "  \n",
    "calculations are performed:  \n",
    "  \n",
    "final_value = 45 + (3*3)**2  \n",
    "  \n",
    "final_value = 126  \n",
    "  \n",
    ".  \n",
    ".  \n",
    ".  \n",
    "  \n",
    "------------------------------------------------------------  \n",
    "**Step 100.)** The final round of the loop  \n",
    "  \n",
    "i is set to the second index value  \n",
    "  \n",
    "[1,...96,97,98,99,100]  \n",
    "  \n",
    "..................................^   \n",
    "  \n",
    "i = 100  \n",
    "  \n",
    "calculations are performed:  \n",
    "  \n",
    "final_value = 2955150 + (3*100)**2  \n",
    "  \n",
    "final_value = 3045150  \n",
    "  \n",
    "Now that we have iterated through everything, we escape this loop and continue to move down the code and print final value:  \n",
    "  \n",
    "print(3045150)  "
   ]
  },
  {
   "cell_type": "markdown",
   "metadata": {},
   "source": [
    "For loops can be used to loop through more than numbers look at the example below where we loop through a list of names to greet people."
   ]
  },
  {
   "cell_type": "code",
   "execution_count": null,
   "metadata": {},
   "outputs": [
    {
     "name": "stdout",
     "output_type": "stream",
     "text": [
      "Hello Bob.\n",
      "Hello Sue.\n",
      "Hello Tory.\n"
     ]
    }
   ],
   "source": [
    "Names_List = [\"Bob\",\"Sue\",\"Tory\"]\n",
    "\n",
    "for name in Names_List:\n",
    "    print(\"Hello \" + name + \".\")"
   ]
  },
  {
   "cell_type": "markdown",
   "metadata": {},
   "source": [
    "These are super simple examples of how to use a for loop, but if you find oyurself performing the same action aver and over on many different values or files you should immediately think of a loop then you should see if you can turn it into a `for` loop. If you dont have a clean completed list to iterate through or you cant get a set number of times you may need to loop then you may need a `while` loop."
   ]
  },
  {
   "cell_type": "markdown",
   "metadata": {},
   "source": [
    "## While Loops"
   ]
  },
  {
   "cell_type": "markdown",
   "metadata": {},
   "source": [
    "Lets start with an example problem. Lets say I have a loan of $26,000 with an 7.24% interest APY with a payment of $305 a month. I want to know, or at least get a decent estimate of how long it will take to pay off the car. below is an annotated snippent of code."
   ]
  },
  {
   "cell_type": "code",
   "execution_count": null,
   "metadata": {},
   "outputs": [
    {
     "name": "stdout",
     "output_type": "stream",
     "text": [
      "You will pay off your loan in 120 months or 10.0 years.\n"
     ]
    }
   ],
   "source": [
    "# This top section is where I store information in well named variables for easy location and editing later.\n",
    "# The principle amount on a loan\n",
    "Loan = 26000\n",
    "# This is a multiplier for how much interest will acrue each month after payment.\n",
    "Monthly_Interest_Multiplier = 1 + .0724/12\n",
    "# The amount a person is paying each month\n",
    "Monthly_Payment = 305\n",
    "\n",
    "# These are accumulators that will be changed as we loop through\n",
    "# The current month a person is on in there loan\n",
    "Months_Passed = 0\n",
    "# The ammount of the loan remaining.\n",
    "Loan_Remaining = Loan\n",
    "\n",
    "# The opening of a while loop. This Loop keeps going until the Loan_Remaining variable is less than 0\n",
    "while Loan_Remaining > 0:\n",
    "    # Subtracting the monthly payment from the remaining amount of the loan.\n",
    "    Loan_Remaining = Loan_Remaining - Monthly_Payment\n",
    "    # Applying Inteterest\n",
    "    Loan_Remaining = Loan_Remaining * Monthly_Interest_Multiplier\n",
    "    # Adding 1 to the month counter \n",
    "    Months_Passed = Months_Passed + 1\n",
    "\n",
    "\n",
    "# Here I am no longer inside the loop and I have my answer in Months_Passed, but I convert it to the number of years for ease of reading.\n",
    "Years_Passed = Months_Passed/12\n",
    "# Printing out Results\n",
    "print(\"You will pay off your loan in \" + str(Months_Passed) + \" months or \" + str(round(Years_Passed,2)) + \" years.\")"
   ]
  },
  {
   "cell_type": "markdown",
   "metadata": {},
   "source": [
    "The above is a good example of when to use a `while` loop. We can't use a `for` loop because we dont know how many times we will have to loop. We are waiting for the Remaining ammount of loan to be equal to or less than 0. `while` loops, rather than iterating through something, iterate until a condition is me. In this case it evaluates if `Loan_Remaining > 0`. We can now change the `Monthly_Payment` variable to different values and see how long it will take to pay off the loan if we pay slightly more or less. Feel free to edit the above code and play around with different values."
   ]
  },
  {
   "cell_type": "markdown",
   "metadata": {},
   "source": [
    "**Caution!**  \n",
    " While loops have an issue. What if your statement never evaluates to `False`?  For the above example you could make the monthly payment of $20 which would not cover the interest of the loan. The loan would continue to grow and it would NEVER evaluate to 0 or anything less than 0. The while loop would go forever. Not literally though, your computer has limits. Sometimes it will crash, sometimes it will over heat, sometimes you get so tired of waiting you kill the program. These unintended outcomes from unanticipated inputs or values are called \"edge cases\". We can account for them and we will talk about how to handle them in the next section on conditionals."
   ]
  },
  {
   "cell_type": "markdown",
   "metadata": {},
   "source": [
    "# Conditionals (If statements)"
   ]
  },
  {
   "cell_type": "markdown",
   "metadata": {},
   "source": [
    "Sometimes you may only want something to happen or a peice of code to run if a certain condition is met. The solution to this is an if statement. Below is an example of a simple example where we greet someone and if someone is 65 or over we add an additional statent to ask how their retirement is. Feel free to play with different values for `Name` or `Age`."
   ]
  },
  {
   "cell_type": "code",
   "execution_count": null,
   "metadata": {},
   "outputs": [
    {
     "name": "stdout",
     "output_type": "stream",
     "text": [
      "Hello Florence!\n",
      "How is your retirement?\n"
     ]
    }
   ],
   "source": [
    "Name = \"Florence\"\n",
    "Age = 71\n",
    "\n",
    "# Prints a nice greeting to someone\n",
    "print(\"Hello \" + Name + \"!\" )\n",
    "\n",
    "# The Indented code is only run if the boolean statement between if and : evaluates to True\n",
    "if Age >= 65:\n",
    "    print(\"How is your retirement?\")"
   ]
  },
  {
   "cell_type": "markdown",
   "metadata": {},
   "source": [
    "If statements are opened by the keyword `if`. After that comes a boolean statement. Then a `:`. The above is a very simple example. We can pair if statements with loops to make them very powerful. Lets say you have a list of 1000 random integers and you want to find the smallest and largest values. This would take a long time to do by hand, and you could do it in excel, but that scales poorly with enough values. There are better ways to do this in python (like many examples we use here), but this is how you might do it with the "
   ]
  },
  {
   "cell_type": "code",
   "execution_count": null,
   "metadata": {},
   "outputs": [
    {
     "name": "stdout",
     "output_type": "stream",
     "text": [
      "Max value in the Large_List: 99925\n",
      "Max value in the Large_List: 65\n"
     ]
    }
   ],
   "source": [
    "# Here is your conveniently generated randomly ordered list of 1000 random integers between 0 and 100000 \n",
    "Large_List = [97904, 18209, 25061, 59575, 83544, 15257, 95472, 45656, 59172, 69362, 74968, 68901, 84896, 72569, 33565, 48505, 89563, 38566, 20030, 65643, 53063, 50690, 54515, 78749, 85055, 14681, 39170, 41137, 86772, 9244, 25483, 83689, 63903, 4040, 55132, 27428, 21064, 43025, 80755, 36070, 39426, 85120, 41434, 12924, 13608, 47433, 189, 66587, 74711, 78414, 52414, 70733, 60364, 42273, 6202, 60057, 49019, 81106, 80811, 86215, 3189, 43152, 33110, 67396, 43596, 65220, 95028, 88190, 13879, 51127, 9841, 1201, 71909, 50386, 97144, 45026, 69343, 53088, 85448, 87570, 6791, 10892, 49175, 51497, 99623, 5721, 59551, 7941, 33019, 21176, 12991, 10042, 46084, 94142, 81529, 38420, 7393, 21158, 51931, 50667, 27859, 84229, 42834, 38811, 76747, 31543, 99413, 26109, 62427, 37086, 38017, 57419, 46468, 28271, 15206, 69963, 28080, 17863, 34749, 16317, 49833, 28820, 29407, 16433, 6967, 3694, 13234, 54707, 3910, 44224, 14580, 89015, 51154, 92546, 65309, 71328, 56384, 91195, 88475, 10350, 52277, 49178, 17862, 90183, 98879, 6831, 86857, 87544, 15505, 39369, 29493, 25484, 58595, 57998, 80530, 72375, 91544, 21448, 73824, 36526, 32071, 83088, 34195, 38218, 78608, 40396, 18783, 18060, 70409, 81813, 20383, 54118, 90190, 5456, 96224, 74684, 54901, 22890, 52798, 84154, 59896, 4216, 47183, 78403, 37762, 83097, 77312, 40276, 80916, 38900, 68966, 92948, 15614, 83151, 61062, 20634, 51241, 96296, 56401, 46338, 44217, 79143, 54798, 79701, 38714, 26679, 7499, 11458, 18015, 9952, 87793, 27142, 90296, 84060, 31444, 2331, 17656, 2759, 65678, 84275, 66306, 51989, 84205, 97979, 47908, 46220, 42102, 1000, 58773, 77700, 89446, 89527, 60494, 62528, 430, 44851, 45083, 92289, 17266, 70278, 34469, 33442, 30473, 37174, 85497, 22326, 51813, 19725, 4699, 14426, 93252, 43062, 8462, 69388, 58524, 14910, 96650, 5839, 35107, 93209, 58716, 16981, 7417, 61606, 42037, 94639, 64182, 53614, 58087, 19503, 24463, 68241, 64885, 51036, 14087, 94711, 44358, 82223, 7975, 43670, 33489, 92441, 48001, 21601, 21527, 42493, 43641, 67050, 68409, 10437, 67666, 58832, 59378, 68360, 50883, 14226, 86562, 32371, 26060, 23816, 56721, 3511, 63687, 92577, 65724, 71126, 18103, 25932, 34867, 12004, 32761, 3211, 92064, 35905, 62699, 31355, 54162, 22705, 21220, 97635, 82456, 62760, 51837, 20905, 95967, 5008, 88944, 83328, 23126, 10073, 33518, 36687, 42532, 28098, 11793, 94152, 95117, 30683, 25113, 77708, 48963, 23444, 73346, 40462, 15518, 80003, 39768, 9405, 28329, 96223, 92160, 16309, 85438, 56258, 20188, 28346, 76356, 23704, 29363, 44412, 90345, 68235, 63723, 96690, 3041, 94846, 65567, 64478, 2518, 75631, 87952, 41839, 2812, 69055, 28037, 76814, 95304, 94423, 64537, 25521, 14169, 24910, 22946, 4001, 75062, 84824, 35596, 8188, 22595, 90529, 15796, 88744, 47219, 53676, 6325, 23039, 22088, 13700, 79314, 36145, 21207, 27321, 64466, 49784, 30850, 78765, 35652, 58452, 23253, 63292, 48227, 58738, 26384, 72624, 87325, 68276, 91230, 11643, 43439, 25279, 81316, 2070, 32135, 23488, 41836, 50558, 76230, 40806, 42912, 63252, 11303, 58879, 16699, 86837, 60092, 18138, 57135, 89323, 42971, 63459, 23360, 70863, 34048, 93526, 3729, 93633, 94380, 15198, 19689, 81194, 63599, 2134, 48976, 89353, 27428, 84545, 81535, 36477, 26093, 3504, 26599, 85151, 98597, 89331, 36083, 26223, 99633, 26429, 34157, 19583, 28697, 22588, 60457, 83310, 36438, 73736, 89800, 426, 23949, 39644, 6838, 991, 23084, 21611, 44995, 66748, 84127, 75114, 16604, 63695, 50894, 97317, 71483, 39883, 39214, 35967, 97225, 123, 62440, 47044, 36917, 44689, 9476, 21834, 4481, 88538, 61783, 35594, 4637, 10186, 13964, 37871, 6783, 99903, 80706, 74866, 52743, 65, 97740, 47669, 88591, 54543, 64860, 28536, 90897, 26407, 44632, 73739, 79919, 15116, 66231, 55148, 31193, 64504, 88377, 93764, 36285, 56333, 98731, 73362, 951, 65280, 25545, 88963, 64726, 5792, 66997, 15156, 66043, 70265, 7391, 2626, 57971, 56662, 21097, 44324, 12328, 30293, 19407, 87911, 26389, 45494, 34933, 88093, 12178, 50182, 64578, 85434, 29514, 92529, 27103, 17842, 85184, 67272, 39719, 65937, 60237, 35338, 77852, 74350, 76095, 11637, 45577, 44863, 42780, 30398, 94474, 26739, 42038, 19052, 6163, 18431, 33178, 31053, 60164, 9867, 93597, 57541, 67993, 7874, 47800, 1314, 25166, 6660, 3853, 5079, 42968, 14931, 39958, 73169, 98433, 31787, 71441, 9957, 91316, 88142, 38010, 24693, 40143, 95698, 67004, 73492, 60405, 95101, 27561, 97520, 71565, 2283, 90824, 86410, 61553, 83700, 89341, 32711, 52541, 43202, 68154, 50898, 8223, 2400, 9244, 47674, 36248, 76800, 72495, 37121, 49219, 67867, 21014, 88690, 45960, 58999, 27167, 24361, 62330, 48190, 1503, 11843, 89349, 11444, 35044, 263, 8845, 9438, 11220, 29727, 17633, 74150, 93683, 10426, 20511, 8928, 38284, 24756, 82877, 29254, 88541, 57071, 30736, 21891, 88172, 74677, 99048, 63841, 19917, 31795, 99028, 81176, 87102, 94977, 28078, 22082, 21444, 62240, 49806, 21574, 15792, 1759, 41339, 4380, 74830, 56268, 72534, 96632, 57551, 88162, 90668, 98363, 9676, 2501, 55754, 12870, 52593, 11672, 93259, 43948, 99630, 5117, 94190, 17732, 30975, 51847, 98159, 36935, 27354, 47073, 48396, 81649, 2258, 81576, 49238, 32670, 92114, 41484, 96132, 98401, 66180, 3548, 47801, 28708, 13378, 94140, 70671, 20368, 62173, 14442, 5145, 32672, 19523, 16711, 65548, 41319, 58910, 8885, 97048, 61105, 98555, 21670, 93278, 26667, 74948, 90909, 74271, 60270, 87921, 38841, 4526, 15888, 49874, 38626, 72720, 78327, 66294, 75050, 40109, 76043, 50771, 30887, 41401, 99422, 35551, 26258, 15864, 10368, 70039, 51353, 12378, 93046, 38173, 96890, 72813, 65820, 33922, 96416, 10332, 93041, 97070, 61340, 56600, 86582, 3588, 92717, 74954, 9269, 95375, 56670, 75854, 22255, 19786, 84840, 41638, 91278, 93037, 65104, 99169, 79463, 76475, 27475, 2988, 13985, 33726, 54701, 15238, 99925, 91802, 67952, 19352, 68282, 47621, 79836, 59895, 31696, 46324, 66226, 97721, 34613, 93444, 49429, 6297, 52781, 48011, 61794, 19772, 15169, 48007, 328, 99312, 54032, 63914, 6476, 46798, 60609, 14080, 30830, 90231, 7762, 65524, 76176, 78061, 41871, 27702, 35696, 52137, 29435, 60924, 29917, 50289, 46882, 41765, 3385, 47139, 76695, 13858, 94740, 61673, 78667, 37774, 11574, 93427, 63978, 98522, 50580, 87099, 10220, 2494, 81358, 13076, 39893, 72862, 19123, 58400, 1693, 63238, 74170, 59627, 31488, 26210, 9677, 83110, 10017, 21158, 52400, 1525, 74106, 53731, 21013, 41816, 15063, 4737, 85529, 54344, 32060, 6710, 64509, 30442, 44761, 603, 16604, 78826, 62272, 83259, 32520, 33487, 37458, 51757, 61735, 72583, 23640, 75183, 19948, 24717, 10090, 72537, 5234, 55774, 45749, 30114, 77314, 55389, 22233, 36259, 66449, 3806, 96060, 1692, 25864, 59078, 97350, 4974, 45822, 40082, 99322, 62042, 53862, 25998, 90137, 18487, 62962, 62471, 85527, 58180, 87921, 50258, 9631, 89619, 74535, 41438, 18503, 81795, 93837, 27214, 10658, 61185, 92997, 7662, 19968, 66280, 43274, 7898, 9586, 77666, 41036, 29530, 50598, 61398, 36346, 85819, 77221, 73906, 82901, 89168, 27110, 15303, 1158, 73571, 11733, 57253, 77497, 73786, 15992]\n",
    "\n",
    "# We start with a default value of the first item in the list.\n",
    "max = Large_List[0]\n",
    "min = Large_List[0]\n",
    "\n",
    "# we loop through every number in the list\n",
    "for number in Large_List:\n",
    "    # Note everything we want to do on each number is indented\n",
    "    # Check if the current number in the list is greater than the current max\n",
    "    if number > max:\n",
    "        # if it is we do the indented section (relative to the if statement) and reassign the max value the higher number.\n",
    "        max = number\n",
    "    \n",
    "    # Check if the current number in the list is less than the current min\n",
    "    if number < min:\n",
    "        # if it is we do the indented section (relative to the if statement) and reassign the in value the lower number.\n",
    "        min = number\n",
    "\n",
    "# Printing Results\n",
    "print(\"Max value in the Large_List: \" + str(max))\n",
    "\n",
    "print(\"Max value in the Large_List: \" + str(min))\n"
   ]
  },
  {
   "cell_type": "markdown",
   "metadata": {},
   "source": [
    "# Functions\n",
    "Functions are extremely helpful way to break code down into separate parts to accomplish certain tasks. Rather than accomplishing everything you want to do in one section, we use functions to accomplish tasks independently and allow us to refer back to them throughout our code.\n"
   ]
  },
  {
   "cell_type": "markdown",
   "metadata": {},
   "source": [
    "Say you had a large set of different IR spectra data from multiple different compounds you are experimenting on and you want to accomplish the following tasks with the data:  \n",
    "- Extract the data from a .csv file  \n",
    "- Make the IR data into a spectrum  \n",
    "- Find the characteristic IR peaks  \n",
    "- Overlay that spectrum with a different spectrum to compare\n",
    "\n",
    "You can make each of these bullets into individual functions to accomplish each task independently. Let's see how to make a function and accomplish these tasks.\n"
   ]
  },
  {
   "cell_type": "markdown",
   "metadata": {},
   "source": [
    "## Defining a Function\n",
    "You define python functions just like mathematical functions- the name of the function and the variables you are inputting.\n",
    "\n",
    "We begin every function with 'def' followed by the name of the function with the variables in parentheses and a colon.\n",
    "This is just like a mathematical function f(x,y). \n",
    "\n",
    "Functions need to end with a return which is what is given back when you call the function."
   ]
  },
  {
   "cell_type": "code",
   "execution_count": null,
   "metadata": {},
   "outputs": [],
   "source": [
    "def function_name(x,y):\n",
    "    return"
   ]
  },
  {
   "cell_type": "markdown",
   "metadata": {},
   "source": [
    "Then, within the function, we choose what we want the function to do. Let's start with a simple multiplication function where we want to multiply two numbers together."
   ]
  },
  {
   "cell_type": "code",
   "execution_count": 1,
   "metadata": {},
   "outputs": [],
   "source": [
    "# Our function name is multply_two_numbers and our input variables are x and y\n",
    "def multiply_two_numbers(x,y):\n",
    "    # Note everything within the function is indented\n",
    "\n",
    "    # We can define a new variable within a function\n",
    "    # The multiply_solution variable is the multiplied value of our variables x and y\n",
    "    multiply_solution = x * y\n",
    "\n",
    "    # Now we end our function by returning the multiply_solution variable (which is our mathematical solution)\n",
    "    return multiply_solution\n"
   ]
  },
  {
   "cell_type": "markdown",
   "metadata": {},
   "source": [
    "## Calling a Function\n",
    "How do we actually use the function? We call it within our code.\n",
    "This is done by using the name of the function as well as the variables you want to input to the function.\n",
    "\n",
    "Let's say you had two numbers you wanted to multiply and they had the variable names num_classes and class_credit_hours to find your total credit hours. You could call the multiply function to perform the calculation for you. When you call the function, the return is the output of the function (multiply_solution)\n",
    "\n",
    "If this were a math function, it would be multiply_two_numbers(num_classes,class_credit_hours) = multiply_solution or f(x,y) = solution"
   ]
  },
  {
   "cell_type": "code",
   "execution_count": 7,
   "metadata": {},
   "outputs": [
    {
     "name": "stdout",
     "output_type": "stream",
     "text": [
      "I am taking 12 hours this semester.\n"
     ]
    }
   ],
   "source": [
    "# I am taking 4 total classes and each class is 3 credit hours\n",
    "num_classes = 4\n",
    "class_credit_hours = 3\n",
    "\n",
    "# We define a new variable total_credit_hours\n",
    "# We set that variable equal to the function we call\n",
    "# We call the function (multiply_two_numbers) by its name and add in the two variables we want to multiply together\n",
    "total_credit_hours = multiply_two_numbers(num_classes, class_credit_hours)\n",
    "\n",
    "# Now, total_credit_hours is the product of our number of classes and the credit hours per class. We can use this new variable in this print statement. \n",
    "print(\"I am taking\", total_credit_hours, \"hours this semester.\")"
   ]
  },
  {
   "cell_type": "markdown",
   "metadata": {},
   "source": [
    "### Multiple Functions Working Together\n",
    "One of the benefits of functions is the fact that you can use them together and you can use them multiple times.\n",
    "\n",
    "Let's say we have a code where we have lots of class options, but we want to make different possible schedules. We may want functions to do the following:\n",
    "- Give me total class credit hours\n",
    "- Give me total homework hours\n",
    "- Give me total TA hours\n",
    "- Give me total weekly committment hours"
   ]
  },
  {
   "cell_type": "code",
   "execution_count": 17,
   "metadata": {},
   "outputs": [
    {
     "name": "stdout",
     "output_type": "stream",
     "text": [
      "Student A's credit hours:  9\n",
      "Student A's TA hours:  9.0\n",
      "Student A's homework hours:  27\n",
      "Student A's research hours:  15\n",
      "Student A's total weekly committment:  60.0\n",
      "--------------------------------------------\n",
      "Student B's credit hours:  6\n",
      "Student B's TA hours:  18.0\n",
      "Student B's homework hours:  18\n",
      "Student B's research hours:  7\n",
      "Student B's total weekly committment:  49.0\n",
      "--------------------------------------------\n",
      "Student C's credit hours:  6\n",
      "Student C's TA hours:  9.0\n",
      "Student C's homework hours:  18\n",
      "Student C's research hours:  25\n",
      "Student C's total weekly committment:  58.0\n"
     ]
    }
   ],
   "source": [
    "# We calculate total credit hours from number of classes and the number of hours per class\n",
    "def calculate_total_credit_hours(num_classes, class_credit_hours):\n",
    "    total_credit_hours = num_classes * class_credit_hours\n",
    "    # Return the multiplied value for the total credit hours\n",
    "    return total_credit_hours\n",
    "\n",
    "# We calculate the total ta hours from the number of lab sessions, the lab sessionl length, the number of students, and the grading time per student\n",
    "def calculate_total_ta_hours(num_lab_sessions, length_of_lab, num_students, grading_time_per_student):\n",
    "    total_ta_hours = (num_lab_sessions * length_of_lab) + (num_students * grading_time_per_student)\n",
    "    # Return the total ta hours (total lab time + total grading time)\n",
    "    return total_ta_hours\n",
    "\n",
    "# We calculate the total homework hours as the total credit hours/week times 3. \n",
    "def calculate_total_homework_hours(credit_hours):\n",
    "    total_homework_hours = credit_hours * 3\n",
    "    # Return the total hours of homework/week (credit hours * 3)\n",
    "    return total_homework_hours\n",
    "\n",
    "# We calculate the total weekly committment as the sum of credit hours, homework hours, ta hours, and research hours\n",
    "def calculate_total_weekly_committment(credit_hours, homework_hours, ta_hours, research_hours):\n",
    "    total_weekly_committment = credit_hours + homework_hours + ta_hours + research_hours\n",
    "    # Return total weekly committment (all committment hours added together)\n",
    "    return total_weekly_committment\n",
    "\n",
    "\n",
    "# Example A - Standard\n",
    "num_classes_A = 3\n",
    "class_credit_hours_A = 3\n",
    "num_lab_sessions_A = 1\n",
    "length_of_lab_A = 3\n",
    "num_students_A = 30\n",
    "grading_time_per_student_A = 0.2\n",
    "research_hours_A = 15\n",
    "\n",
    "student_a_credit_hours = calculate_total_credit_hours(num_classes_A, class_credit_hours_A)\n",
    "print (\"Student A's credit hours: \", student_a_credit_hours)\n",
    "\n",
    "student_a_ta_hours = calculate_total_ta_hours(num_lab_sessions_A, length_of_lab_A, num_students_A, grading_time_per_student_A)\n",
    "print (\"Student A's TA hours: \", student_a_ta_hours)\n",
    "\n",
    "# Note: We are using the previous function result as in input to this function!!\n",
    "student_a_homework_hours = calculate_total_homework_hours(student_a_credit_hours)\n",
    "print (\"Student A's homework hours: \", student_a_homework_hours)\n",
    "\n",
    "print (\"Student A's research hours: \", research_hours_A)\n",
    "\n",
    "student_a_total_hours = calculate_total_weekly_committment(student_a_credit_hours, student_a_homework_hours, student_a_ta_hours, research_hours_A)\n",
    "\n",
    "print (\"Student A's total weekly committment: \", student_a_total_hours)\n",
    "\n",
    "print(\"--------------------------------------------\")\n",
    "# Example B - TA Heavy\n",
    "num_classes_B = 2\n",
    "class_credit_hours_B = 3\n",
    "num_lab_sessions_B = 2\n",
    "length_of_lab_B = 3\n",
    "num_students_B = 60\n",
    "grading_time_per_student_B = 0.2\n",
    "research_hours_B = 7\n",
    "\n",
    "student_b_credit_hours = calculate_total_credit_hours(num_classes_B, class_credit_hours_B)\n",
    "print (\"Student B's credit hours: \", student_b_credit_hours)\n",
    "\n",
    "student_b_ta_hours = calculate_total_ta_hours(num_lab_sessions_B, length_of_lab_B, num_students_B, grading_time_per_student_B)\n",
    "print (\"Student B's TA hours: \", student_b_ta_hours)\n",
    "\n",
    "# Note: We are using the previous function result as in input to this function!!\n",
    "student_b_homework_hours = calculate_total_homework_hours(student_b_credit_hours)\n",
    "print (\"Student B's homework hours: \", student_b_homework_hours)\n",
    "\n",
    "print (\"Student B's research hours: \", research_hours_B)\n",
    "\n",
    "student_b_total_hours = calculate_total_weekly_committment(student_b_credit_hours, student_b_homework_hours, student_b_ta_hours, research_hours_B)\n",
    "\n",
    "print (\"Student B's total weekly committment: \", student_b_total_hours)\n",
    "\n",
    "print(\"--------------------------------------------\")\n",
    "# Example C - Research Heavy\n",
    "num_classes_C = 2\n",
    "class_credit_hours_C = 3\n",
    "num_lab_sessions_C = 1\n",
    "length_of_lab_C = 3\n",
    "num_students_C = 30\n",
    "grading_time_per_student_C = 0.2\n",
    "research_hours_C = 25\n",
    "\n",
    "student_c_credit_hours = calculate_total_credit_hours(num_classes_C, class_credit_hours_C)\n",
    "print (\"Student C's credit hours: \", student_c_credit_hours)\n",
    "\n",
    "student_c_ta_hours = calculate_total_ta_hours(num_lab_sessions_C, length_of_lab_C, num_students_C, grading_time_per_student_C)\n",
    "print (\"Student C's TA hours: \", student_c_ta_hours)\n",
    "\n",
    "# Note: We are using the previous function result as in input to this function!!\n",
    "student_c_homework_hours = calculate_total_homework_hours(student_c_credit_hours)\n",
    "print (\"Student C's homework hours: \", student_c_homework_hours)\n",
    "\n",
    "print (\"Student C's research hours: \", research_hours_C)\n",
    "\n",
    "student_c_total_hours = calculate_total_weekly_committment(student_c_credit_hours, student_c_homework_hours, student_c_ta_hours, research_hours_C)\n",
    "\n",
    "print (\"Student C's total weekly committment: \", student_c_total_hours)\n"
   ]
  },
  {
   "cell_type": "markdown",
   "metadata": {},
   "source": [
    "## What about Chemistry? (More Advanced Function Uses)\n",
    "Chemists often have lots of data to analyze, and this is where python shines- analyzing data.\n",
    "\n",
    "One such example could be IR data. What if we have data from an IR spectrum (frequencies and intensities of the peaks), but we want some information from it. We can use functions and python!!\n"
   ]
  },
  {
   "cell_type": "code",
   "execution_count": 20,
   "metadata": {},
   "outputs": [
    {
     "data": {
      "text/plain": [
       "[<matplotlib.lines.Line2D at 0x15361250f50>]"
      ]
     },
     "execution_count": 20,
     "metadata": {},
     "output_type": "execute_result"
    },
    {
     "data": {
      "image/png": "[encoded data removed]",
      "text/plain": [
       "<Figure size 640x480 with 1 Axes>"
      ]
     },
     "metadata": {},
     "output_type": "display_data"
    }
   ],
   "source": [
    "# Don't worry about this yet. This just allows me to show you the plot\n",
    "import matplotlib.pyplot as plt\n",
    "ir_frequencies=[36.3, 48.06, 63.06, 78.61, 101.22, 140.19, 159.32, 160.66, 236.33, 241.63, 305.37, 424.61, 457.0, 471.22, 553.57, 636.44, 723.24, 731.67, 751.98, 767.21, 834.88, 904.71, 910.11, 926.7, 1009.83, 1020.27, 1057.06, 1058.44, 1085.82, 1093.08, 1105.41, 1144.46, 1203.37, 1234.37, 1235.93, 1262.57, 1278.47, 1290.93, 1307.63, 1317.09, 1319.15, 1328.31, 1332.32, 1367.74, 1395.06, 1400.46, 1410.66, 1453.86, 1456.53, 1463.2, 1472.38, 1478.8, 1482.27, 1490.38, 1495.09, 1788.43, 3032.64, 3037.49, 3044.45, 3049.13, 3055.01, 3059.1, 3067.21, 3078.93, 3089.45, 3091.89, 3098.61, 3113.31, 3132.92, 3142.4, 3166.26, 3804.88]\n",
    "ir_intensities=[3.47, 8.91, 7.0, 7.58, 1.61, 1.64, 4.93, 0.94, 0.08, 0.0, 8.33, 3.85, 10.52, 6.48, 196.3, 18.13, 15.72, 1.29, 5.43, 1.27, 2.1, 42.24, 23.52, 16.97, 1.39, 2.0, 7.36, 4.62, 0.32, 1.09, 32.94, 9.76, 14.63, 1.2, 4.81, 97.74, 79.0, 136.63, 230.18, 0.66, 10.73, 4.05, 204.39, 34.87, 7.44, 2.17, 1.68, 2.2, 1.22, 2.93, 2.57, 10.57, 6.2, 4.7, 32.03, 758.53, 7.15, 25.74, 76.58, 99.31, 39.74, 56.56, 0.6, 1.29, 7.63, 3.42, 126.96, 87.95, 67.62, 42.01, 12.2, 244.84]\n",
    "plt.plot(ir_frequencies, ir_intensities, marker='o', linestyle='None', color='blue', markersize=4) "
   ]
  },
  {
   "cell_type": "markdown",
   "metadata": {},
   "source": [
    "Above is a basic plot of our raw IR data. Let's analyze it"
   ]
  },
  {
   "cell_type": "code",
   "execution_count": 23,
   "metadata": {},
   "outputs": [
    {
     "name": "stdout",
     "output_type": "stream",
     "text": [
      "The maximum IR peak is at 1788.43 cm^-1, with an intensity of 758.53\n",
      "The average intensity of the IR spectrum is 41.64611111111111\n"
     ]
    }
   ],
   "source": [
    "def find_ir_maximum(ir_frequencies, ir_intensities):\n",
    "    # Note everything within the function is indented\n",
    "\n",
    "    # First, we find the highest intensity value in the entire spectrum.\n",
    "    # The 'max()' function is perfect for this!\n",
    "    max_intensity = max(ir_intensities)\n",
    "\n",
    "    # Now, we need to know *where* (at what frequency) this maximum intensity occurred.\n",
    "    # The 'index()' method tells us the position (index) of the first occurrence of a value in a list.\n",
    "    max_intensity_index = ir_intensities.index(max_intensity)\n",
    "\n",
    "    # With the index, we can now find the corresponding frequency from the ir_frequencies list.\n",
    "    max_frequency = ir_frequencies[max_intensity_index]\n",
    "\n",
    "    # Finally, we return both the frequency and the intensity of the maximum peak.\n",
    "    return max_frequency, max_intensity\n",
    "\n",
    "def calculate_average_intensity(ir_intensities):\n",
    "    # Let's calculate the average intensity of the whole IR spectrum\n",
    "    # The built in sum function will add all of the intensities in the list\n",
    "    total_intensity = sum(ir_intensities)\n",
    "\n",
    "    # The built in length function will return how many different intensities there are (the length of the list)\n",
    "    average_intensity = total_intensity / len(ir_intensities)\n",
    "\n",
    "    return average_intensity\n",
    "\n",
    "\n",
    "ir_frequencies=[36.3, 48.06, 63.06, 78.61, 101.22, 140.19, 159.32, 160.66, 236.33, 241.63, 305.37, 424.61, 457.0, 471.22, 553.57, 636.44, 723.24, 731.67, 751.98, 767.21, 834.88, 904.71, 910.11, 926.7, 1009.83, 1020.27, 1057.06, 1058.44, 1085.82, 1093.08, 1105.41, 1144.46, 1203.37, 1234.37, 1235.93, 1262.57, 1278.47, 1290.93, 1307.63, 1317.09, 1319.15, 1328.31, 1332.32, 1367.74, 1395.06, 1400.46, 1410.66, 1453.86, 1456.53, 1463.2, 1472.38, 1478.8, 1482.27, 1490.38, 1495.09, 1788.43, 3032.64, 3037.49, 3044.45, 3049.13, 3055.01, 3059.1, 3067.21, 3078.93, 3089.45, 3091.89, 3098.61, 3113.31, 3132.92, 3142.4, 3166.26, 3804.88]\n",
    "ir_intensities=[3.47, 8.91, 7.0, 7.58, 1.61, 1.64, 4.93, 0.94, 0.08, 0.0, 8.33, 3.85, 10.52, 6.48, 196.3, 18.13, 15.72, 1.29, 5.43, 1.27, 2.1, 42.24, 23.52, 16.97, 1.39, 2.0, 7.36, 4.62, 0.32, 1.09, 32.94, 9.76, 14.63, 1.2, 4.81, 97.74, 79.0, 136.63, 230.18, 0.66, 10.73, 4.05, 204.39, 34.87, 7.44, 2.17, 1.68, 2.2, 1.22, 2.93, 2.57, 10.57, 6.2, 4.7, 32.03, 758.53, 7.15, 25.74, 76.58, 99.31, 39.74, 56.56, 0.6, 1.29, 7.63, 3.42, 126.96, 87.95, 67.62, 42.01, 12.2, 244.84]\n",
    "\n",
    "# Because our find_ir_maximum function returns two variables, we can get both of them at the same time\n",
    "max_peak_frequency, max_peak_intensity = find_ir_maximum(ir_frequencies, ir_intensities)\n",
    "\n",
    "print(\"The maximum IR peak is at\", max_peak_frequency, \"cm^-1, with an intensity of\", max_peak_intensity)\n",
    "\n",
    "print(\"The average intensity of the IR spectrum is\", calculate_average_intensity(ir_intensities))"
   ]
  }
 ],
 "metadata": {
  "kernelspec": {
   "display_name": "Python 3",
   "language": "python",
   "name": "python3"
  },
  "language_info": {
   "codemirror_mode": {
    "name": "ipython",
    "version": 3
   },
   "file_extension": ".py",
   "mimetype": "text/x-python",
   "name": "python",
   "nbconvert_exporter": "python",
   "pygments_lexer": "ipython3",
   "version": "3.13.0"
  }
 },
 "nbformat": 4,
 "nbformat_minor": 2
}
